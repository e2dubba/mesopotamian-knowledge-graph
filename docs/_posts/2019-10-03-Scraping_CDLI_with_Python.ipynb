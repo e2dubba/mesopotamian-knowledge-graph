{
 "cells": [
  {
   "cell_type": "markdown",
   "metadata": {},
   "source": [
    "# Scraping CDLI with Python\n",
    "\n",
    "This post is about scraping CDLI, specifically the Lugalzagesi vase inscription. CDLI's composite texts are well formated and easy to grab. \n",
    "\n",
    "All this script initially does is pull a text, seperate the different signs used, and count them.   "
   ]
  },
  {
   "cell_type": "markdown",
   "metadata": {},
   "source": [
    "## Importing \n",
    "\n",
    "We are going to use the following libraries. The only one that would need to be installed is `bs4`. BeautifulSoup is a library to manage HTML/XML. It is a really great tool for adding to `requests`."
   ]
  },
  {
   "cell_type": "code",
   "execution_count": 1,
   "metadata": {},
   "outputs": [],
   "source": [
    "import requests\n",
    "import re \n",
    "from collections import Counter\n",
    "\n",
    "from bs4 import BeautifulSoup\n",
    "\n",
    "\n",
    "req = requests.get('https://cdli.ucla.edu/tools/scores/Q001379.html')"
   ]
  },
  {
   "cell_type": "markdown",
   "metadata": {},
   "source": [
    "## Extracting the Text from HTML, And Relevant Lines \n",
    "\n",
    "This particular text is a score transcription, where the first line of each section is an eclectic line drawn from the different peices of evidence. All of the particular peices of evidence are written out in full underneath the eclectic line. "
   ]
  },
  {
   "cell_type": "code",
   "execution_count": 2,
   "metadata": {},
   "outputs": [],
   "source": [
    "soup = BeautifulSoup(req.text)\n",
    "text = soup.get_text()\n",
    "# Thankfully the cannonical lines start with Q[some Number] [lineNumber]: [Relevant text]\n",
    "list_of_lines = re.findall(r'Q\\d+ \\d{3}:\\n[^\\n]*\\n', text)"
   ]
  },
  {
   "cell_type": "markdown",
   "metadata": {},
   "source": [
    "After we have the lines in a list, we also want to extract just the text"
   ]
  },
  {
   "cell_type": "code",
   "execution_count": 3,
   "metadata": {},
   "outputs": [],
   "source": [
    "list_of_lines = [x.split('\\n')[1] for x in list_of_lines]"
   ]
  },
  {
   "cell_type": "markdown",
   "metadata": {},
   "source": [
    "## Extracting the Individual Signs\n",
    "\n",
    "After we have a list of lines, we want to take each sign spelled out in the transcription and put it into a single list. The Determinatives are put inside brackets `{}`, and need to be pulled out of the text"
   ]
  },
  {
   "cell_type": "code",
   "execution_count": 4,
   "metadata": {},
   "outputs": [],
   "source": [
    "DET_RE = re.compile(r'{([^}]*)}')\n",
    "BRAC_TRANS = str.maketrans('', '', '[]{}')\n",
    "\n",
    "def clean_punctuation(sign):\n",
    "    '''For our purposes, we are not interested in the reconstructed signs, so we will \n",
    "    remove all of the brakets as well as clean up the determinative markings'''\n",
    "    return sign.translate(BRAC_TRANS)\n",
    "    \n",
    "\n",
    "def extract_determinatives(sign):\n",
    "    '''Extracting the determinatives after the line has been split by sign and word'''\n",
    "    dete_match = DET_RE.search(sign)\n",
    "    try:\n",
    "        start = sign[:dete_match.start()]\n",
    "        end = sign[dete_match.end():]\n",
    "        sign = start+end \n",
    "        determinative = dete_match.group().replace('{', '').replace('}', '')\n",
    "    except AttributeError:\n",
    "        determinative = ''\n",
    "    sign = clean_punctuation(sign)\n",
    "    determinative = clean_punctuation(determinative)\n",
    "    return sign, determinative\n",
    "    \n",
    "    "
   ]
  },
  {
   "cell_type": "markdown",
   "metadata": {},
   "source": [
    "Now we can iterate over each of the lines, and create a single list of all of the signs. This first splits the text on both spaces and hyphens, and then addes all of the components of the sign to a snigle list"
   ]
  },
  {
   "cell_type": "code",
   "execution_count": 5,
   "metadata": {},
   "outputs": [],
   "source": [
    "list_of_signs = []\n",
    "\n",
    "for line in list_of_lines:\n",
    "    line = re.split(' |-', line)\n",
    "    for sign in line:\n",
    "        sign, deter = extract_determinatives(sign)\n",
    "        if deter:\n",
    "            list_of_signs.append(deter)      \n",
    "        list_of_signs.append(sign)"
   ]
  },
  {
   "cell_type": "markdown",
   "metadata": {},
   "source": [
    "With a single list we can count how often each sign occurs, with the module `Counter`. "
   ]
  },
  {
   "cell_type": "code",
   "execution_count": 6,
   "metadata": {},
   "outputs": [
    {
     "data": {
      "text/plain": [
       "[('ki', 22),\n",
       " ('d', 20),\n",
       " ('mu', 20),\n",
       " ('a', 19),\n",
       " ('e', 16),\n",
       " ('kur', 15),\n",
       " ('lugal', 14),\n",
       " ('na', 13),\n",
       " ('da', 11),\n",
       " ('en', 9),\n",
       " ('ga', 8),\n",
       " ('ma', 8),\n",
       " ('nam', 8),\n",
       " ('lil2', 7),\n",
       " ('ra', 7),\n",
       " ('utu', 7),\n",
       " ('ke4', 7),\n",
       " ('ni', 7),\n",
       " ('sze3', 7),\n",
       " ('si', 6),\n",
       " ('unu', 6),\n",
       " ('kalam', 6),\n",
       " ('an', 6),\n",
       " ('ge', 5),\n",
       " ('mah', 5),\n",
       " ('ne', 5),\n",
       " ('ba', 5),\n",
       " ('la', 5),\n",
       " ('dab6', 5),\n",
       " ('ha', 5),\n",
       " ('lu2', 4),\n",
       " ('igi', 4),\n",
       " ('u2', 4),\n",
       " ('sag', 4),\n",
       " ('u4', 4),\n",
       " ('ta', 4),\n",
       " ('ag2', 4),\n",
       " ('za3', 3),\n",
       " ('nisaba', 3),\n",
       " ('ensi2', 3),\n",
       " ('ka', 3),\n",
       " ('zi', 3),\n",
       " ('gal', 3),\n",
       " ('nin', 3),\n",
       " ('e3', 3),\n",
       " ('sa2', 3),\n",
       " ('szu', 3),\n",
       " ('zal', 3),\n",
       " ('gin7', 3),\n",
       " ('ti', 3),\n",
       " ('dumu', 2),\n",
       " ('U2', 2),\n",
       " ('umma', 2),\n",
       " ('szum2', 2),\n",
       " ('a2', 2),\n",
       " ('re', 2),\n",
       " ('giri3', 2),\n",
       " ('szu2', 2),\n",
       " ('gu2', 2),\n",
       " ('gar', 2),\n",
       " ('ab', 2),\n",
       " ('be2', 2),\n",
       " ('le', 2),\n",
       " ('sal', 2),\n",
       " ('nu2', 2),\n",
       " ('hul2', 2),\n",
       " ('bara2', 2),\n",
       " ('me', 2),\n",
       " ('tar', 2),\n",
       " ('gu4', 2),\n",
       " ('il2', 2),\n",
       " ('iri', 2),\n",
       " ('gi4', 2),\n",
       " ('he2', 2),\n",
       " ('sa6', 2),\n",
       " ('iszib', 1),\n",
       " ('bar', 1),\n",
       " ('gesztu2', 1),\n",
       " ('pa3', 1),\n",
       " ('sukkal', 1),\n",
       " ('suen', 1),\n",
       " ('szagina', 1),\n",
       " ('inanna', 1),\n",
       " ('tu', 1),\n",
       " ('gu7', 1),\n",
       " ('hur', 1),\n",
       " ('mes', 1),\n",
       " ('sanga', 1),\n",
       " ('girimx(|A.BU.HA.DU|)', 1),\n",
       " ('agrig', 1),\n",
       " ('dingir', 1),\n",
       " ('se3', 1),\n",
       " ('sig', 1),\n",
       " ('idigna', 1),\n",
       " ('buranun', 1),\n",
       " ('nim', 1),\n",
       " ('bi', 1),\n",
       " ('gaba', 1),\n",
       " ('nu', 1),\n",
       " ('tuku', 1),\n",
       " ('gi', 1),\n",
       " ('nun', 1),\n",
       " ('giri17', 1),\n",
       " ('uri5', 1),\n",
       " ('larsa', 1),\n",
       " ('szara2', 1),\n",
       " ('zabala5', 1),\n",
       " ('u8', 1),\n",
       " ('sila4', 1),\n",
       " ('gur5', 1),\n",
       " ('sig4', 1),\n",
       " ('|KI.AN|', 1),\n",
       " ('|KIN.KIN|', 1),\n",
       " ('nibru', 1),\n",
       " ('nidba', 1),\n",
       " ('su13', 1),\n",
       " ('de3', 1),\n",
       " ('du10', 1),\n",
       " ('de2', 1),\n",
       " ('tukumx(|SZU.TUR|)', 1),\n",
       " ('szita', 1),\n",
       " ('dah', 1),\n",
       " ('he', 1),\n",
       " ('u18', 1),\n",
       " ('szim', 1),\n",
       " ('dagal', 1),\n",
       " ('du11', 1),\n",
       " ('ubur', 1),\n",
       " ('du8', 1),\n",
       " ('esz2', 1),\n",
       " ('bala', 1),\n",
       " ('sipa', 1),\n",
       " ('gal2', 1),\n",
       " ('ri2', 1),\n",
       " ('ru', 1)]"
      ]
     },
     "execution_count": 6,
     "metadata": {},
     "output_type": "execute_result"
    }
   ],
   "source": [
    "counted = Counter(list_of_signs)\n",
    "counted.most_common()"
   ]
  },
  {
   "cell_type": "markdown",
   "metadata": {},
   "source": [
    "## Conclusion \n",
    "\n",
    "This is just preliminary explorations of the sign lists in the Lugalsagezi inscription. This is just a preliminary to some more sophistiecated mthods that could be applied to the inscription. "
   ]
  }
 ],
 "metadata": {
  "kernelspec": {
   "display_name": "Python 3",
   "language": "python",
   "name": "python3"
  },
  "language_info": {
   "codemirror_mode": {
    "name": "ipython",
    "version": 3
   },
   "file_extension": ".py",
   "mimetype": "text/x-python",
   "name": "python",
   "nbconvert_exporter": "python",
   "pygments_lexer": "ipython3",
   "version": "3.6.8"
  }
 },
 "nbformat": 4,
 "nbformat_minor": 2
}
